{
 "cells": [
  {
   "cell_type": "code",
   "execution_count": 1,
   "metadata": {},
   "outputs": [
    {
     "name": "stderr",
     "output_type": "stream",
     "text": [
      "c:\\Users\\nikol\\anaconda3\\envs\\PTVQA\\lib\\site-packages\\ipykernel_launcher.py:3: ParserWarning: Falling back to the 'python' engine because the 'c' engine does not support regex separators (separators > 1 char and different from '\\s+' are interpreted as regex); you can avoid this warning by specifying engine='python'.\n",
      "  This is separate from the ipykernel package so we can avoid doing imports until\n"
     ]
    }
   ],
   "source": [
    "import pandas as pd\n",
    "movies = pd.read_pickle(\"D:/University/Edinburgh/Dissertation/data/data.pkl\")\n",
    "user_df =pd.read_csv(\"D:/University/Edinburgh/Dissertation/data/movielens/users.dat\",sep=\"::\",header=None)\n",
    "user_df.rename(columns={0: \"userId\", 1: \"gender\", 2: \"age\", 3: \"occupation\", 4: \"postcode\"}, inplace=True)\n",
    "# ratings_df = pd.read_pickle(\"D:/University/Edinburgh/Dissertation/Data/ratings_updated.pkl\")"
   ]
  },
  {
   "cell_type": "code",
   "execution_count": 2,
   "metadata": {},
   "outputs": [],
   "source": [
    "# user_df =pd.read_csv(\"D:/University/Edinburgh/Dissertation/data/movielens/users.dat\",sep=\"::\",header=None)\n",
    "# ratings_df1 = pd.read_csv(\"D:/University/Edinburgh/Dissertation/data/movielens/ratings.dat\",sep=\"::\",header=None)\n",
    "# ratings_df1.rename(columns={0: \"userId\", 1: \"movieId\", 2: \"rating\", 3: \"timestamp\"}, inplace=True)\n",
    "ratings_df = pd.read_csv(\"D:/University/Edinburgh/Dissertation/Data/ml-20m/ratings.csv\")\n",
    "# ratings_df3 = pd.read_csv(\"D:/University/Edinburgh/Dissertation/Data/ratings.csv\")\n",
    "\n",
    "# ratings_df = pd.concat([ratings_df1, ratings_df2, ratings_df3], ignore_index=True) \n",
    "\n",
    "ratings_df.drop_duplicates(inplace=True)"
   ]
  },
  {
   "cell_type": "code",
   "execution_count": 3,
   "metadata": {},
   "outputs": [
    {
     "name": "stdout",
     "output_type": "stream",
     "text": [
      "Number of unique movies in the ratings df after the movie removal 26744\n",
      "The size of union between the movie df (includes movies metadata) and the ratings_df: 8729\n",
      "The total number of ratings after removing movies that we don't have poster and user that we don't have side information: 15734663\n"
     ]
    }
   ],
   "source": [
    "movies_ratings = set(ratings_df.movieId)\n",
    "print(\"Number of unique movies in the ratings df after the movie removal\", len(movies_ratings))\n",
    "movies_ratings_df = list(movies_ratings & set(movies.movieId))\n",
    "print(\"The size of union between the movie df (includes movies metadata) and the ratings_df:\", len(movies_ratings_df))\n",
    "\n",
    "#keep only the ratings that the user id has side information \n",
    "ratings_movie_df = ratings_df.loc[ratings_df[\"movieId\"].isin(movies_ratings_df)]\n",
    "\n",
    "print(\"The total number of ratings after removing movies that we don't have poster and user that we don't have side information:\", len(ratings_movie_df))"
   ]
  },
  {
   "cell_type": "code",
   "execution_count": 4,
   "metadata": {},
   "outputs": [
    {
     "name": "stdout",
     "output_type": "stream",
     "text": [
      "Number of unique user in the ratings df after the movie removal 138484\n",
      "The size of union between the user df (includes user side information) and the ratings_df: 6040\n",
      "The total number of ratings after removing movies that we don't have poster and user that we don't have side information: 712312\n"
     ]
    }
   ],
   "source": [
    "user_ratings = set(ratings_movie_df.userId)\n",
    "print(\"Number of unique user in the ratings df after the movie removal\", len(user_ratings))\n",
    "user_ratings_df = list(user_ratings & set(user_df.userId))\n",
    "print(\"The size of union between the user df (includes user side information) and the ratings_df:\", len(user_ratings_df))\n",
    "\n",
    "# keep only the ratings that the user id has side information \n",
    "ratings_user_df = ratings_movie_df.loc[ratings_movie_df[\"userId\"].isin(user_ratings_df)]\n",
    "\n",
    "print(\"The total number of ratings after removing movies that we don't have poster and user that we don't have side information:\", len(ratings_user_df))"
   ]
  },
  {
   "cell_type": "code",
   "execution_count": 5,
   "metadata": {},
   "outputs": [
    {
     "name": "stderr",
     "output_type": "stream",
     "text": [
      "c:\\Users\\nikol\\anaconda3\\envs\\PTVQA\\lib\\site-packages\\ipykernel_launcher.py:1: SettingWithCopyWarning: \n",
      "A value is trying to be set on a copy of a slice from a DataFrame\n",
      "\n",
      "See the caveats in the documentation: http://pandas.pydata.org/pandas-docs/stable/user_guide/indexing.html#returning-a-view-versus-a-copy\n",
      "  \"\"\"Entry point for launching an IPython kernel.\n"
     ]
    }
   ],
   "source": [
    "ratings_user_df.sort_values(by=\"timestamp\", inplace=True)"
   ]
  },
  {
   "cell_type": "code",
   "execution_count": 6,
   "metadata": {},
   "outputs": [
    {
     "data": {
      "text/html": [
       "<div>\n",
       "<style scoped>\n",
       "    .dataframe tbody tr th:only-of-type {\n",
       "        vertical-align: middle;\n",
       "    }\n",
       "\n",
       "    .dataframe tbody tr th {\n",
       "        vertical-align: top;\n",
       "    }\n",
       "\n",
       "    .dataframe thead th {\n",
       "        text-align: right;\n",
       "    }\n",
       "</style>\n",
       "<table border=\"1\" class=\"dataframe\">\n",
       "  <thead>\n",
       "    <tr style=\"text-align: right;\">\n",
       "      <th></th>\n",
       "      <th>userId</th>\n",
       "      <th>movieId</th>\n",
       "      <th>rating</th>\n",
       "      <th>timestamp</th>\n",
       "    </tr>\n",
       "  </thead>\n",
       "  <tbody>\n",
       "    <tr>\n",
       "      <th>729429</th>\n",
       "      <td>4864</td>\n",
       "      <td>17</td>\n",
       "      <td>5.0</td>\n",
       "      <td>825499934</td>\n",
       "    </tr>\n",
       "    <tr>\n",
       "      <th>729444</th>\n",
       "      <td>4864</td>\n",
       "      <td>79</td>\n",
       "      <td>1.0</td>\n",
       "      <td>825499934</td>\n",
       "    </tr>\n",
       "    <tr>\n",
       "      <th>729426</th>\n",
       "      <td>4864</td>\n",
       "      <td>10</td>\n",
       "      <td>3.0</td>\n",
       "      <td>825499934</td>\n",
       "    </tr>\n",
       "    <tr>\n",
       "      <th>729427</th>\n",
       "      <td>4864</td>\n",
       "      <td>11</td>\n",
       "      <td>5.0</td>\n",
       "      <td>825499934</td>\n",
       "    </tr>\n",
       "    <tr>\n",
       "      <th>729443</th>\n",
       "      <td>4864</td>\n",
       "      <td>62</td>\n",
       "      <td>4.0</td>\n",
       "      <td>825499935</td>\n",
       "    </tr>\n",
       "  </tbody>\n",
       "</table>\n",
       "</div>"
      ],
      "text/plain": [
       "        userId  movieId  rating  timestamp\n",
       "729429    4864       17     5.0  825499934\n",
       "729444    4864       79     1.0  825499934\n",
       "729426    4864       10     3.0  825499934\n",
       "729427    4864       11     5.0  825499934\n",
       "729443    4864       62     4.0  825499935"
      ]
     },
     "execution_count": 6,
     "metadata": {},
     "output_type": "execute_result"
    }
   ],
   "source": [
    "ratings_user_df.head()"
   ]
  },
  {
   "cell_type": "code",
   "execution_count": null,
   "metadata": {},
   "outputs": [],
   "source": [
    "# ratings_user_df.to_pickle(\"D:/University/Edinburgh/Dissertation/Data/ratings_movielens20m.pkl\")"
   ]
  },
  {
   "cell_type": "code",
   "execution_count": 6,
   "metadata": {},
   "outputs": [],
   "source": [
    "movie_distribution = ratings_user_df.groupby(['movieId'])['movieId'].count().reset_index(name='counts')\n",
    "movie_less_10 = movie_distribution.loc[movie_distribution[\"counts\"] <10]"
   ]
  },
  {
   "cell_type": "code",
   "execution_count": 7,
   "metadata": {},
   "outputs": [
    {
     "data": {
      "text/html": [
       "<div>\n",
       "<style scoped>\n",
       "    .dataframe tbody tr th:only-of-type {\n",
       "        vertical-align: middle;\n",
       "    }\n",
       "\n",
       "    .dataframe tbody tr th {\n",
       "        vertical-align: top;\n",
       "    }\n",
       "\n",
       "    .dataframe thead th {\n",
       "        text-align: right;\n",
       "    }\n",
       "</style>\n",
       "<table border=\"1\" class=\"dataframe\">\n",
       "  <thead>\n",
       "    <tr style=\"text-align: right;\">\n",
       "      <th></th>\n",
       "      <th>movieId</th>\n",
       "      <th>counts</th>\n",
       "    </tr>\n",
       "  </thead>\n",
       "  <tbody>\n",
       "    <tr>\n",
       "      <th>31</th>\n",
       "      <td>33</td>\n",
       "      <td>3</td>\n",
       "    </tr>\n",
       "    <tr>\n",
       "      <th>35</th>\n",
       "      <td>37</td>\n",
       "      <td>9</td>\n",
       "    </tr>\n",
       "    <tr>\n",
       "      <th>49</th>\n",
       "      <td>56</td>\n",
       "      <td>2</td>\n",
       "    </tr>\n",
       "    <tr>\n",
       "      <th>52</th>\n",
       "      <td>59</td>\n",
       "      <td>4</td>\n",
       "    </tr>\n",
       "    <tr>\n",
       "      <th>60</th>\n",
       "      <td>67</td>\n",
       "      <td>9</td>\n",
       "    </tr>\n",
       "    <tr>\n",
       "      <th>...</th>\n",
       "      <td>...</td>\n",
       "      <td>...</td>\n",
       "    </tr>\n",
       "    <tr>\n",
       "      <th>7505</th>\n",
       "      <td>91286</td>\n",
       "      <td>1</td>\n",
       "    </tr>\n",
       "    <tr>\n",
       "      <th>7506</th>\n",
       "      <td>93328</td>\n",
       "      <td>1</td>\n",
       "    </tr>\n",
       "    <tr>\n",
       "      <th>7507</th>\n",
       "      <td>100946</td>\n",
       "      <td>1</td>\n",
       "    </tr>\n",
       "    <tr>\n",
       "      <th>7508</th>\n",
       "      <td>102747</td>\n",
       "      <td>1</td>\n",
       "    </tr>\n",
       "    <tr>\n",
       "      <th>7509</th>\n",
       "      <td>107890</td>\n",
       "      <td>2</td>\n",
       "    </tr>\n",
       "  </tbody>\n",
       "</table>\n",
       "<p>2958 rows × 2 columns</p>\n",
       "</div>"
      ],
      "text/plain": [
       "      movieId  counts\n",
       "31         33       3\n",
       "35         37       9\n",
       "49         56       2\n",
       "52         59       4\n",
       "60         67       9\n",
       "...       ...     ...\n",
       "7505    91286       1\n",
       "7506    93328       1\n",
       "7507   100946       1\n",
       "7508   102747       1\n",
       "7509   107890       2\n",
       "\n",
       "[2958 rows x 2 columns]"
      ]
     },
     "execution_count": 7,
     "metadata": {},
     "output_type": "execute_result"
    }
   ],
   "source": [
    "movie_less_10"
   ]
  },
  {
   "cell_type": "markdown",
   "metadata": {},
   "source": [
    "# Drop all the movies with less than 10 ratings"
   ]
  },
  {
   "cell_type": "code",
   "execution_count": null,
   "metadata": {},
   "outputs": [],
   "source": [
    "ratings_movie_less_10_df= ratings_user_df.loc[~ratings_user_df[\"movieId\"].isin(movie_less_10.movieId)]"
   ]
  },
  {
   "cell_type": "markdown",
   "metadata": {},
   "source": [
    "# Adding the timestamp of for each one of the movies"
   ]
  },
  {
   "cell_type": "code",
   "execution_count": 8,
   "metadata": {},
   "outputs": [],
   "source": [
    "test = [ratings_user_df[\"timestamp\"].loc[ratings_user_df[\"movieId\"] == movie_id] for movie_id in movie_less_10.movieId]"
   ]
  },
  {
   "cell_type": "code",
   "execution_count": 9,
   "metadata": {},
   "outputs": [
    {
     "name": "stderr",
     "output_type": "stream",
     "text": [
      "c:\\Users\\nikol\\anaconda3\\envs\\PTVQA\\lib\\site-packages\\ipykernel_launcher.py:5: SettingWithCopyWarning: \n",
      "A value is trying to be set on a copy of a slice from a DataFrame.\n",
      "Try using .loc[row_indexer,col_indexer] = value instead\n",
      "\n",
      "See the caveats in the documentation: http://pandas.pydata.org/pandas-docs/stable/user_guide/indexing.html#returning-a-view-versus-a-copy\n",
      "  \"\"\"\n"
     ]
    },
    {
     "data": {
      "text/html": [
       "<div>\n",
       "<style scoped>\n",
       "    .dataframe tbody tr th:only-of-type {\n",
       "        vertical-align: middle;\n",
       "    }\n",
       "\n",
       "    .dataframe tbody tr th {\n",
       "        vertical-align: top;\n",
       "    }\n",
       "\n",
       "    .dataframe thead th {\n",
       "        text-align: right;\n",
       "    }\n",
       "</style>\n",
       "<table border=\"1\" class=\"dataframe\">\n",
       "  <thead>\n",
       "    <tr style=\"text-align: right;\">\n",
       "      <th></th>\n",
       "      <th>movieId</th>\n",
       "      <th>counts</th>\n",
       "      <th>timestamp</th>\n",
       "    </tr>\n",
       "  </thead>\n",
       "  <tbody>\n",
       "    <tr>\n",
       "      <th>31</th>\n",
       "      <td>33</td>\n",
       "      <td>3</td>\n",
       "      <td>836266184</td>\n",
       "    </tr>\n",
       "    <tr>\n",
       "      <th>35</th>\n",
       "      <td>37</td>\n",
       "      <td>9</td>\n",
       "      <td>836266162</td>\n",
       "    </tr>\n",
       "    <tr>\n",
       "      <th>49</th>\n",
       "      <td>56</td>\n",
       "      <td>2</td>\n",
       "      <td>836266162</td>\n",
       "    </tr>\n",
       "    <tr>\n",
       "      <th>52</th>\n",
       "      <td>59</td>\n",
       "      <td>4</td>\n",
       "      <td>836266162</td>\n",
       "    </tr>\n",
       "    <tr>\n",
       "      <th>60</th>\n",
       "      <td>67</td>\n",
       "      <td>9</td>\n",
       "      <td>836266184</td>\n",
       "    </tr>\n",
       "  </tbody>\n",
       "</table>\n",
       "</div>"
      ],
      "text/plain": [
       "    movieId  counts  timestamp\n",
       "31       33       3  836266184\n",
       "35       37       9  836266162\n",
       "49       56       2  836266162\n",
       "52       59       4  836266162\n",
       "60       67       9  836266184"
      ]
     },
     "execution_count": 9,
     "metadata": {},
     "output_type": "execute_result"
    }
   ],
   "source": [
    "timestamps_movie_less_10 = []\n",
    "for t in test:\n",
    "    timestamps_movie_less_10.append(t.iloc[0] + 1)\n",
    "\n",
    "movie_less_10[\"timestamp\"] = timestamps_movie_less_10\n",
    "movie_less_10.head()"
   ]
  },
  {
   "cell_type": "markdown",
   "metadata": {},
   "source": [
    "Artificially add more ratings"
   ]
  },
  {
   "cell_type": "code",
   "execution_count": 10,
   "metadata": {},
   "outputs": [],
   "source": [
    "import random\n",
    "test_adding = []\n",
    "total_number_of_added_ratings = 0\n",
    "for movie_id, counts, temp_timestamp in zip(movie_less_10.movieId, movie_less_10.counts, movie_less_10.timestamp):\n",
    "       \n",
    "    while counts <= 15:\n",
    "        total_number_of_added_ratings +=1 \n",
    "        user = random.randint(1, 6040)\n",
    "        #TODO: how to maka it 1.5, 3.5 etc\n",
    "        rating = random.randint(1,5)\n",
    "        # ratings_user_df = ratings_user_df.append({'userId': user, 'movieId': movie_id, 'rating': rating, 'timestamp': temp_timestamp}, ignore_index=True)\n",
    "        test_adding.append([user, movie_id, rating, temp_timestamp])\n",
    "        temp_timestamp +=1 \n",
    "        counts+=1\n",
    "         "
   ]
  },
  {
   "cell_type": "code",
   "execution_count": 11,
   "metadata": {},
   "outputs": [],
   "source": [
    "extra_rating_df = pd.DataFrame(test_adding, columns=[\"userId\", \"movieId\",\"rating\",\"timestamp\"])"
   ]
  },
  {
   "cell_type": "code",
   "execution_count": 12,
   "metadata": {},
   "outputs": [
    {
     "data": {
      "text/plain": [
       "6026"
      ]
     },
     "execution_count": 12,
     "metadata": {},
     "output_type": "execute_result"
    }
   ],
   "source": [
    "len(extra_rating_df.userId.unique())"
   ]
  },
  {
   "cell_type": "code",
   "execution_count": 14,
   "metadata": {},
   "outputs": [
    {
     "data": {
      "text/html": [
       "<div>\n",
       "<style scoped>\n",
       "    .dataframe tbody tr th:only-of-type {\n",
       "        vertical-align: middle;\n",
       "    }\n",
       "\n",
       "    .dataframe tbody tr th {\n",
       "        vertical-align: top;\n",
       "    }\n",
       "\n",
       "    .dataframe thead th {\n",
       "        text-align: right;\n",
       "    }\n",
       "</style>\n",
       "<table border=\"1\" class=\"dataframe\">\n",
       "  <thead>\n",
       "    <tr style=\"text-align: right;\">\n",
       "      <th></th>\n",
       "      <th>userId</th>\n",
       "      <th>movieId</th>\n",
       "      <th>rating</th>\n",
       "      <th>timestamp</th>\n",
       "    </tr>\n",
       "  </thead>\n",
       "  <tbody>\n",
       "    <tr>\n",
       "      <th>0</th>\n",
       "      <td>4693</td>\n",
       "      <td>33</td>\n",
       "      <td>5</td>\n",
       "      <td>836266184</td>\n",
       "    </tr>\n",
       "    <tr>\n",
       "      <th>1</th>\n",
       "      <td>5797</td>\n",
       "      <td>33</td>\n",
       "      <td>5</td>\n",
       "      <td>836266185</td>\n",
       "    </tr>\n",
       "    <tr>\n",
       "      <th>2</th>\n",
       "      <td>1836</td>\n",
       "      <td>33</td>\n",
       "      <td>2</td>\n",
       "      <td>836266186</td>\n",
       "    </tr>\n",
       "    <tr>\n",
       "      <th>3</th>\n",
       "      <td>911</td>\n",
       "      <td>33</td>\n",
       "      <td>3</td>\n",
       "      <td>836266187</td>\n",
       "    </tr>\n",
       "    <tr>\n",
       "      <th>4</th>\n",
       "      <td>1056</td>\n",
       "      <td>33</td>\n",
       "      <td>5</td>\n",
       "      <td>836266188</td>\n",
       "    </tr>\n",
       "    <tr>\n",
       "      <th>...</th>\n",
       "      <td>...</td>\n",
       "      <td>...</td>\n",
       "      <td>...</td>\n",
       "      <td>...</td>\n",
       "    </tr>\n",
       "    <tr>\n",
       "      <th>36149</th>\n",
       "      <td>5848</td>\n",
       "      <td>107890</td>\n",
       "      <td>4</td>\n",
       "      <td>1395081944</td>\n",
       "    </tr>\n",
       "    <tr>\n",
       "      <th>36150</th>\n",
       "      <td>4888</td>\n",
       "      <td>107890</td>\n",
       "      <td>5</td>\n",
       "      <td>1395081945</td>\n",
       "    </tr>\n",
       "    <tr>\n",
       "      <th>36151</th>\n",
       "      <td>877</td>\n",
       "      <td>107890</td>\n",
       "      <td>5</td>\n",
       "      <td>1395081946</td>\n",
       "    </tr>\n",
       "    <tr>\n",
       "      <th>36152</th>\n",
       "      <td>5923</td>\n",
       "      <td>107890</td>\n",
       "      <td>4</td>\n",
       "      <td>1395081947</td>\n",
       "    </tr>\n",
       "    <tr>\n",
       "      <th>36153</th>\n",
       "      <td>4395</td>\n",
       "      <td>107890</td>\n",
       "      <td>2</td>\n",
       "      <td>1395081948</td>\n",
       "    </tr>\n",
       "  </tbody>\n",
       "</table>\n",
       "<p>36154 rows × 4 columns</p>\n",
       "</div>"
      ],
      "text/plain": [
       "       userId  movieId  rating   timestamp\n",
       "0        4693       33       5   836266184\n",
       "1        5797       33       5   836266185\n",
       "2        1836       33       2   836266186\n",
       "3         911       33       3   836266187\n",
       "4        1056       33       5   836266188\n",
       "...       ...      ...     ...         ...\n",
       "36149    5848   107890       4  1395081944\n",
       "36150    4888   107890       5  1395081945\n",
       "36151     877   107890       5  1395081946\n",
       "36152    5923   107890       4  1395081947\n",
       "36153    4395   107890       2  1395081948\n",
       "\n",
       "[36154 rows x 4 columns]"
      ]
     },
     "execution_count": 14,
     "metadata": {},
     "output_type": "execute_result"
    }
   ],
   "source": [
    "extra_rating_df"
   ]
  },
  {
   "cell_type": "code",
   "execution_count": 13,
   "metadata": {},
   "outputs": [],
   "source": [
    "ratings_user_df = ratings_user_df.append(extra_rating_df, ignore_index=True)"
   ]
  },
  {
   "cell_type": "code",
   "execution_count": 15,
   "metadata": {},
   "outputs": [],
   "source": [
    "ratings_user_df['rating'] = ratings_user_df['rating'].astype(int)"
   ]
  },
  {
   "cell_type": "code",
   "execution_count": null,
   "metadata": {},
   "outputs": [],
   "source": [
    "# ratings_user_df.to_pickle(\"D:/University/Edinburgh/Dissertation/Data/ratings_artficial_added.pkl\")"
   ]
  },
  {
   "cell_type": "code",
   "execution_count": 20,
   "metadata": {},
   "outputs": [
    {
     "data": {
      "text/html": [
       "<div>\n",
       "<style scoped>\n",
       "    .dataframe tbody tr th:only-of-type {\n",
       "        vertical-align: middle;\n",
       "    }\n",
       "\n",
       "    .dataframe tbody tr th {\n",
       "        vertical-align: top;\n",
       "    }\n",
       "\n",
       "    .dataframe thead th {\n",
       "        text-align: right;\n",
       "    }\n",
       "</style>\n",
       "<table border=\"1\" class=\"dataframe\">\n",
       "  <thead>\n",
       "    <tr style=\"text-align: right;\">\n",
       "      <th></th>\n",
       "      <th>userId</th>\n",
       "      <th>movieId</th>\n",
       "      <th>rating</th>\n",
       "      <th>timestamp</th>\n",
       "    </tr>\n",
       "  </thead>\n",
       "  <tbody>\n",
       "  </tbody>\n",
       "</table>\n",
       "</div>"
      ],
      "text/plain": [
       "Empty DataFrame\n",
       "Columns: [userId, movieId, rating, timestamp]\n",
       "Index: []"
      ]
     },
     "execution_count": 20,
     "metadata": {},
     "output_type": "execute_result"
    }
   ],
   "source": [
    "ratings_user_df.loc[ratings_user_df.rating == 0]"
   ]
  },
  {
   "cell_type": "code",
   "execution_count": 18,
   "metadata": {},
   "outputs": [],
   "source": [
    "ratings_user_df.loc[ratings_user_df['rating'] == 0, 'rating'] = 1"
   ]
  },
  {
   "cell_type": "code",
   "execution_count": 19,
   "metadata": {},
   "outputs": [
    {
     "data": {
      "text/html": [
       "<div>\n",
       "<style scoped>\n",
       "    .dataframe tbody tr th:only-of-type {\n",
       "        vertical-align: middle;\n",
       "    }\n",
       "\n",
       "    .dataframe tbody tr th {\n",
       "        vertical-align: top;\n",
       "    }\n",
       "\n",
       "    .dataframe thead th {\n",
       "        text-align: right;\n",
       "    }\n",
       "</style>\n",
       "<table border=\"1\" class=\"dataframe\">\n",
       "  <thead>\n",
       "    <tr style=\"text-align: right;\">\n",
       "      <th></th>\n",
       "      <th>userId</th>\n",
       "      <th>movieId</th>\n",
       "      <th>rating</th>\n",
       "      <th>timestamp</th>\n",
       "    </tr>\n",
       "  </thead>\n",
       "  <tbody>\n",
       "    <tr>\n",
       "      <th>0</th>\n",
       "      <td>4864</td>\n",
       "      <td>17</td>\n",
       "      <td>5</td>\n",
       "      <td>825499934</td>\n",
       "    </tr>\n",
       "    <tr>\n",
       "      <th>1</th>\n",
       "      <td>4864</td>\n",
       "      <td>79</td>\n",
       "      <td>1</td>\n",
       "      <td>825499934</td>\n",
       "    </tr>\n",
       "    <tr>\n",
       "      <th>2</th>\n",
       "      <td>4864</td>\n",
       "      <td>10</td>\n",
       "      <td>3</td>\n",
       "      <td>825499934</td>\n",
       "    </tr>\n",
       "    <tr>\n",
       "      <th>3</th>\n",
       "      <td>4864</td>\n",
       "      <td>11</td>\n",
       "      <td>5</td>\n",
       "      <td>825499934</td>\n",
       "    </tr>\n",
       "    <tr>\n",
       "      <th>4</th>\n",
       "      <td>4864</td>\n",
       "      <td>62</td>\n",
       "      <td>4</td>\n",
       "      <td>825499935</td>\n",
       "    </tr>\n",
       "  </tbody>\n",
       "</table>\n",
       "</div>"
      ],
      "text/plain": [
       "   userId  movieId  rating  timestamp\n",
       "0    4864       17       5  825499934\n",
       "1    4864       79       1  825499934\n",
       "2    4864       10       3  825499934\n",
       "3    4864       11       5  825499934\n",
       "4    4864       62       4  825499935"
      ]
     },
     "execution_count": 19,
     "metadata": {},
     "output_type": "execute_result"
    }
   ],
   "source": [
    "ratings_user_df.head()"
   ]
  },
  {
   "cell_type": "code",
   "execution_count": 22,
   "metadata": {},
   "outputs": [
    {
     "data": {
      "text/plain": [
       "array([5, 1, 3, 4, 2], dtype=int64)"
      ]
     },
     "execution_count": 22,
     "metadata": {},
     "output_type": "execute_result"
    }
   ],
   "source": [
    "ratings_user_df.rating.unique()"
   ]
  },
  {
   "cell_type": "code",
   "execution_count": 23,
   "metadata": {},
   "outputs": [
    {
     "data": {
      "text/plain": [
       "6040"
      ]
     },
     "execution_count": 23,
     "metadata": {},
     "output_type": "execute_result"
    }
   ],
   "source": [
    "len(ratings_user_df.userId.unique())"
   ]
  },
  {
   "cell_type": "code",
   "execution_count": 24,
   "metadata": {},
   "outputs": [
    {
     "data": {
      "text/plain": [
       "7510"
      ]
     },
     "execution_count": 24,
     "metadata": {},
     "output_type": "execute_result"
    }
   ],
   "source": [
    "len(ratings_user_df.movieId.unique())"
   ]
  },
  {
   "cell_type": "code",
   "execution_count": 21,
   "metadata": {},
   "outputs": [],
   "source": [
    "test_ratings = ratings_user_df"
   ]
  },
  {
   "cell_type": "markdown",
   "metadata": {},
   "source": [
    "# OHE ratings"
   ]
  },
  {
   "cell_type": "code",
   "execution_count": 21,
   "metadata": {},
   "outputs": [
    {
     "ename": "NameError",
     "evalue": "name 'test_ratings' is not defined",
     "output_type": "error",
     "traceback": [
      "\u001b[1;31m---------------------------------------------------------------------------\u001b[0m",
      "\u001b[1;31mNameError\u001b[0m                                 Traceback (most recent call last)",
      "\u001b[1;32m<ipython-input-21-cf5c64641ac8>\u001b[0m in \u001b[0;36m<module>\u001b[1;34m\u001b[0m\n\u001b[0;32m      1\u001b[0m \u001b[1;31m# Get one hot encoding of columns B\u001b[0m\u001b[1;33m\u001b[0m\u001b[1;33m\u001b[0m\u001b[1;33m\u001b[0m\u001b[0m\n\u001b[1;32m----> 2\u001b[1;33m \u001b[0mone_hot\u001b[0m \u001b[1;33m=\u001b[0m \u001b[0mpd\u001b[0m\u001b[1;33m.\u001b[0m\u001b[0mget_dummies\u001b[0m\u001b[1;33m(\u001b[0m\u001b[0mtest_ratings\u001b[0m\u001b[1;33m[\u001b[0m\u001b[1;34m'rating'\u001b[0m\u001b[1;33m]\u001b[0m\u001b[1;33m)\u001b[0m\u001b[1;33m\u001b[0m\u001b[1;33m\u001b[0m\u001b[0m\n\u001b[0m\u001b[0;32m      3\u001b[0m \u001b[1;31m# Drop column B as it is now encoded\u001b[0m\u001b[1;33m\u001b[0m\u001b[1;33m\u001b[0m\u001b[1;33m\u001b[0m\u001b[0m\n\u001b[0;32m      4\u001b[0m \u001b[0mtest_ratings\u001b[0m \u001b[1;33m=\u001b[0m \u001b[0mtest_ratings\u001b[0m\u001b[1;33m.\u001b[0m\u001b[0mdrop\u001b[0m\u001b[1;33m(\u001b[0m\u001b[1;34m'rating'\u001b[0m\u001b[1;33m,\u001b[0m\u001b[0maxis\u001b[0m \u001b[1;33m=\u001b[0m \u001b[1;36m1\u001b[0m\u001b[1;33m)\u001b[0m\u001b[1;33m\u001b[0m\u001b[1;33m\u001b[0m\u001b[0m\n\u001b[0;32m      5\u001b[0m \u001b[1;31m# Join the encoded df\u001b[0m\u001b[1;33m\u001b[0m\u001b[1;33m\u001b[0m\u001b[1;33m\u001b[0m\u001b[0m\n",
      "\u001b[1;31mNameError\u001b[0m: name 'test_ratings' is not defined"
     ]
    }
   ],
   "source": [
    "# Get one hot encoding of columns B\n",
    "one_hot = pd.get_dummies(test_ratings['rating'])\n",
    "# Drop column B as it is now encoded\n",
    "test_ratings = test_ratings.drop('rating',axis = 1)\n",
    "# Join the encoded df\n",
    "test_ratings = test_ratings.join(one_hot)"
   ]
  },
  {
   "cell_type": "code",
   "execution_count": 24,
   "metadata": {},
   "outputs": [
    {
     "data": {
      "text/html": [
       "<div>\n",
       "<style scoped>\n",
       "    .dataframe tbody tr th:only-of-type {\n",
       "        vertical-align: middle;\n",
       "    }\n",
       "\n",
       "    .dataframe tbody tr th {\n",
       "        vertical-align: top;\n",
       "    }\n",
       "\n",
       "    .dataframe thead th {\n",
       "        text-align: right;\n",
       "    }\n",
       "</style>\n",
       "<table border=\"1\" class=\"dataframe\">\n",
       "  <thead>\n",
       "    <tr style=\"text-align: right;\">\n",
       "      <th></th>\n",
       "      <th>userId</th>\n",
       "      <th>movieId</th>\n",
       "      <th>timestamp</th>\n",
       "      <th>0.5</th>\n",
       "      <th>1.0</th>\n",
       "      <th>1.5</th>\n",
       "      <th>2.0</th>\n",
       "      <th>2.5</th>\n",
       "      <th>3.0</th>\n",
       "      <th>3.5</th>\n",
       "      <th>4.0</th>\n",
       "      <th>4.5</th>\n",
       "      <th>5.0</th>\n",
       "    </tr>\n",
       "  </thead>\n",
       "  <tbody>\n",
       "    <tr>\n",
       "      <th>0</th>\n",
       "      <td>4864</td>\n",
       "      <td>17</td>\n",
       "      <td>825499934</td>\n",
       "      <td>0</td>\n",
       "      <td>0</td>\n",
       "      <td>0</td>\n",
       "      <td>0</td>\n",
       "      <td>0</td>\n",
       "      <td>0</td>\n",
       "      <td>0</td>\n",
       "      <td>0</td>\n",
       "      <td>0</td>\n",
       "      <td>1</td>\n",
       "    </tr>\n",
       "    <tr>\n",
       "      <th>1</th>\n",
       "      <td>4864</td>\n",
       "      <td>79</td>\n",
       "      <td>825499934</td>\n",
       "      <td>0</td>\n",
       "      <td>1</td>\n",
       "      <td>0</td>\n",
       "      <td>0</td>\n",
       "      <td>0</td>\n",
       "      <td>0</td>\n",
       "      <td>0</td>\n",
       "      <td>0</td>\n",
       "      <td>0</td>\n",
       "      <td>0</td>\n",
       "    </tr>\n",
       "    <tr>\n",
       "      <th>2</th>\n",
       "      <td>4864</td>\n",
       "      <td>10</td>\n",
       "      <td>825499934</td>\n",
       "      <td>0</td>\n",
       "      <td>0</td>\n",
       "      <td>0</td>\n",
       "      <td>0</td>\n",
       "      <td>0</td>\n",
       "      <td>1</td>\n",
       "      <td>0</td>\n",
       "      <td>0</td>\n",
       "      <td>0</td>\n",
       "      <td>0</td>\n",
       "    </tr>\n",
       "    <tr>\n",
       "      <th>3</th>\n",
       "      <td>4864</td>\n",
       "      <td>11</td>\n",
       "      <td>825499934</td>\n",
       "      <td>0</td>\n",
       "      <td>0</td>\n",
       "      <td>0</td>\n",
       "      <td>0</td>\n",
       "      <td>0</td>\n",
       "      <td>0</td>\n",
       "      <td>0</td>\n",
       "      <td>0</td>\n",
       "      <td>0</td>\n",
       "      <td>1</td>\n",
       "    </tr>\n",
       "    <tr>\n",
       "      <th>4</th>\n",
       "      <td>4864</td>\n",
       "      <td>62</td>\n",
       "      <td>825499935</td>\n",
       "      <td>0</td>\n",
       "      <td>0</td>\n",
       "      <td>0</td>\n",
       "      <td>0</td>\n",
       "      <td>0</td>\n",
       "      <td>0</td>\n",
       "      <td>0</td>\n",
       "      <td>1</td>\n",
       "      <td>0</td>\n",
       "      <td>0</td>\n",
       "    </tr>\n",
       "    <tr>\n",
       "      <th>...</th>\n",
       "      <td>...</td>\n",
       "      <td>...</td>\n",
       "      <td>...</td>\n",
       "      <td>...</td>\n",
       "      <td>...</td>\n",
       "      <td>...</td>\n",
       "      <td>...</td>\n",
       "      <td>...</td>\n",
       "      <td>...</td>\n",
       "      <td>...</td>\n",
       "      <td>...</td>\n",
       "      <td>...</td>\n",
       "      <td>...</td>\n",
       "    </tr>\n",
       "    <tr>\n",
       "      <th>748461</th>\n",
       "      <td>5848</td>\n",
       "      <td>107890</td>\n",
       "      <td>1395081944</td>\n",
       "      <td>0</td>\n",
       "      <td>0</td>\n",
       "      <td>0</td>\n",
       "      <td>0</td>\n",
       "      <td>0</td>\n",
       "      <td>0</td>\n",
       "      <td>0</td>\n",
       "      <td>1</td>\n",
       "      <td>0</td>\n",
       "      <td>0</td>\n",
       "    </tr>\n",
       "    <tr>\n",
       "      <th>748462</th>\n",
       "      <td>4888</td>\n",
       "      <td>107890</td>\n",
       "      <td>1395081945</td>\n",
       "      <td>0</td>\n",
       "      <td>0</td>\n",
       "      <td>0</td>\n",
       "      <td>0</td>\n",
       "      <td>0</td>\n",
       "      <td>0</td>\n",
       "      <td>0</td>\n",
       "      <td>0</td>\n",
       "      <td>0</td>\n",
       "      <td>1</td>\n",
       "    </tr>\n",
       "    <tr>\n",
       "      <th>748463</th>\n",
       "      <td>877</td>\n",
       "      <td>107890</td>\n",
       "      <td>1395081946</td>\n",
       "      <td>0</td>\n",
       "      <td>0</td>\n",
       "      <td>0</td>\n",
       "      <td>0</td>\n",
       "      <td>0</td>\n",
       "      <td>0</td>\n",
       "      <td>0</td>\n",
       "      <td>0</td>\n",
       "      <td>0</td>\n",
       "      <td>1</td>\n",
       "    </tr>\n",
       "    <tr>\n",
       "      <th>748464</th>\n",
       "      <td>5923</td>\n",
       "      <td>107890</td>\n",
       "      <td>1395081947</td>\n",
       "      <td>0</td>\n",
       "      <td>0</td>\n",
       "      <td>0</td>\n",
       "      <td>0</td>\n",
       "      <td>0</td>\n",
       "      <td>0</td>\n",
       "      <td>0</td>\n",
       "      <td>1</td>\n",
       "      <td>0</td>\n",
       "      <td>0</td>\n",
       "    </tr>\n",
       "    <tr>\n",
       "      <th>748465</th>\n",
       "      <td>4395</td>\n",
       "      <td>107890</td>\n",
       "      <td>1395081948</td>\n",
       "      <td>0</td>\n",
       "      <td>0</td>\n",
       "      <td>0</td>\n",
       "      <td>1</td>\n",
       "      <td>0</td>\n",
       "      <td>0</td>\n",
       "      <td>0</td>\n",
       "      <td>0</td>\n",
       "      <td>0</td>\n",
       "      <td>0</td>\n",
       "    </tr>\n",
       "  </tbody>\n",
       "</table>\n",
       "<p>748466 rows × 13 columns</p>\n",
       "</div>"
      ],
      "text/plain": [
       "        userId  movieId   timestamp  0.5  1.0  1.5  2.0  2.5  3.0  3.5  4.0  \\\n",
       "0         4864       17   825499934    0    0    0    0    0    0    0    0   \n",
       "1         4864       79   825499934    0    1    0    0    0    0    0    0   \n",
       "2         4864       10   825499934    0    0    0    0    0    1    0    0   \n",
       "3         4864       11   825499934    0    0    0    0    0    0    0    0   \n",
       "4         4864       62   825499935    0    0    0    0    0    0    0    1   \n",
       "...        ...      ...         ...  ...  ...  ...  ...  ...  ...  ...  ...   \n",
       "748461    5848   107890  1395081944    0    0    0    0    0    0    0    1   \n",
       "748462    4888   107890  1395081945    0    0    0    0    0    0    0    0   \n",
       "748463     877   107890  1395081946    0    0    0    0    0    0    0    0   \n",
       "748464    5923   107890  1395081947    0    0    0    0    0    0    0    1   \n",
       "748465    4395   107890  1395081948    0    0    0    1    0    0    0    0   \n",
       "\n",
       "        4.5  5.0  \n",
       "0         0    1  \n",
       "1         0    0  \n",
       "2         0    0  \n",
       "3         0    1  \n",
       "4         0    0  \n",
       "...     ...  ...  \n",
       "748461    0    0  \n",
       "748462    0    1  \n",
       "748463    0    1  \n",
       "748464    0    0  \n",
       "748465    0    0  \n",
       "\n",
       "[748466 rows x 13 columns]"
      ]
     },
     "execution_count": 24,
     "metadata": {},
     "output_type": "execute_result"
    }
   ],
   "source": [
    "test_ratings"
   ]
  },
  {
   "cell_type": "code",
   "execution_count": 25,
   "metadata": {},
   "outputs": [],
   "source": [
    "ratings_user_df.to_pickle(\"D:/University/Edinburgh/Dissertation/Data/ratings_artficial_added.pkl\")"
   ]
  },
  {
   "cell_type": "code",
   "execution_count": 27,
   "metadata": {},
   "outputs": [
    {
     "data": {
      "text/html": [
       "<div>\n",
       "<style scoped>\n",
       "    .dataframe tbody tr th:only-of-type {\n",
       "        vertical-align: middle;\n",
       "    }\n",
       "\n",
       "    .dataframe tbody tr th {\n",
       "        vertical-align: top;\n",
       "    }\n",
       "\n",
       "    .dataframe thead th {\n",
       "        text-align: right;\n",
       "    }\n",
       "</style>\n",
       "<table border=\"1\" class=\"dataframe\">\n",
       "  <thead>\n",
       "    <tr style=\"text-align: right;\">\n",
       "      <th></th>\n",
       "      <th>userId</th>\n",
       "      <th>movieId</th>\n",
       "      <th>rating</th>\n",
       "      <th>timestamp</th>\n",
       "    </tr>\n",
       "  </thead>\n",
       "  <tbody>\n",
       "    <tr>\n",
       "      <th>0</th>\n",
       "      <td>4864</td>\n",
       "      <td>17</td>\n",
       "      <td>5.0</td>\n",
       "      <td>825499934</td>\n",
       "    </tr>\n",
       "    <tr>\n",
       "      <th>1</th>\n",
       "      <td>4864</td>\n",
       "      <td>79</td>\n",
       "      <td>1.0</td>\n",
       "      <td>825499934</td>\n",
       "    </tr>\n",
       "    <tr>\n",
       "      <th>2</th>\n",
       "      <td>4864</td>\n",
       "      <td>10</td>\n",
       "      <td>3.0</td>\n",
       "      <td>825499934</td>\n",
       "    </tr>\n",
       "    <tr>\n",
       "      <th>3</th>\n",
       "      <td>4864</td>\n",
       "      <td>11</td>\n",
       "      <td>5.0</td>\n",
       "      <td>825499934</td>\n",
       "    </tr>\n",
       "    <tr>\n",
       "      <th>4</th>\n",
       "      <td>4864</td>\n",
       "      <td>62</td>\n",
       "      <td>4.0</td>\n",
       "      <td>825499935</td>\n",
       "    </tr>\n",
       "  </tbody>\n",
       "</table>\n",
       "</div>"
      ],
      "text/plain": [
       "   userId  movieId  rating  timestamp\n",
       "0    4864       17     5.0  825499934\n",
       "1    4864       79     1.0  825499934\n",
       "2    4864       10     3.0  825499934\n",
       "3    4864       11     5.0  825499934\n",
       "4    4864       62     4.0  825499935"
      ]
     },
     "execution_count": 27,
     "metadata": {},
     "output_type": "execute_result"
    }
   ],
   "source": [
    "ratings_user_df.head()"
   ]
  },
  {
   "cell_type": "code",
   "execution_count": 30,
   "metadata": {},
   "outputs": [
    {
     "data": {
      "text/plain": [
       "array([5. , 1. , 3. , 4. , 2. , 4.5, 1.5, 3.5, 2.5, 0.5])"
      ]
     },
     "execution_count": 30,
     "metadata": {},
     "output_type": "execute_result"
    }
   ],
   "source": [
    "ratings_user_df.rating.unique()"
   ]
  },
  {
   "cell_type": "code",
   "execution_count": 26,
   "metadata": {},
   "outputs": [],
   "source": [
    "ratings = pd.read_pickle(\"D:/University/Edinburgh/Dissertation/data/ratings_updated.pkl\")"
   ]
  },
  {
   "cell_type": "code",
   "execution_count": 27,
   "metadata": {},
   "outputs": [
    {
     "data": {
      "text/html": [
       "<div>\n",
       "<style scoped>\n",
       "    .dataframe tbody tr th:only-of-type {\n",
       "        vertical-align: middle;\n",
       "    }\n",
       "\n",
       "    .dataframe tbody tr th {\n",
       "        vertical-align: top;\n",
       "    }\n",
       "\n",
       "    .dataframe thead th {\n",
       "        text-align: right;\n",
       "    }\n",
       "</style>\n",
       "<table border=\"1\" class=\"dataframe\">\n",
       "  <thead>\n",
       "    <tr style=\"text-align: right;\">\n",
       "      <th></th>\n",
       "      <th>userId</th>\n",
       "      <th>movieId</th>\n",
       "      <th>rating</th>\n",
       "      <th>timestamp</th>\n",
       "    </tr>\n",
       "  </thead>\n",
       "  <tbody>\n",
       "    <tr>\n",
       "      <th>1729638</th>\n",
       "      <td>4864</td>\n",
       "      <td>17</td>\n",
       "      <td>5.0</td>\n",
       "      <td>825499934</td>\n",
       "    </tr>\n",
       "    <tr>\n",
       "      <th>1729636</th>\n",
       "      <td>4864</td>\n",
       "      <td>11</td>\n",
       "      <td>5.0</td>\n",
       "      <td>825499934</td>\n",
       "    </tr>\n",
       "    <tr>\n",
       "      <th>1729635</th>\n",
       "      <td>4864</td>\n",
       "      <td>10</td>\n",
       "      <td>3.0</td>\n",
       "      <td>825499934</td>\n",
       "    </tr>\n",
       "    <tr>\n",
       "      <th>1729653</th>\n",
       "      <td>4864</td>\n",
       "      <td>79</td>\n",
       "      <td>1.0</td>\n",
       "      <td>825499934</td>\n",
       "    </tr>\n",
       "    <tr>\n",
       "      <th>1729637</th>\n",
       "      <td>4864</td>\n",
       "      <td>14</td>\n",
       "      <td>4.0</td>\n",
       "      <td>825499935</td>\n",
       "    </tr>\n",
       "    <tr>\n",
       "      <th>...</th>\n",
       "      <td>...</td>\n",
       "      <td>...</td>\n",
       "      <td>...</td>\n",
       "      <td>...</td>\n",
       "    </tr>\n",
       "    <tr>\n",
       "      <th>21298780</th>\n",
       "      <td>3161</td>\n",
       "      <td>1584</td>\n",
       "      <td>4.0</td>\n",
       "      <td>1501782344</td>\n",
       "    </tr>\n",
       "    <tr>\n",
       "      <th>21298784</th>\n",
       "      <td>3161</td>\n",
       "      <td>2005</td>\n",
       "      <td>3.5</td>\n",
       "      <td>1501782502</td>\n",
       "    </tr>\n",
       "    <tr>\n",
       "      <th>21593322</th>\n",
       "      <td>5990</td>\n",
       "      <td>3147</td>\n",
       "      <td>4.0</td>\n",
       "      <td>1501815991</td>\n",
       "    </tr>\n",
       "    <tr>\n",
       "      <th>21593333</th>\n",
       "      <td>5990</td>\n",
       "      <td>5445</td>\n",
       "      <td>3.5</td>\n",
       "      <td>1501816235</td>\n",
       "    </tr>\n",
       "    <tr>\n",
       "      <th>21071504</th>\n",
       "      <td>741</td>\n",
       "      <td>8866</td>\n",
       "      <td>3.5</td>\n",
       "      <td>1501822222</td>\n",
       "    </tr>\n",
       "  </tbody>\n",
       "</table>\n",
       "<p>2020157 rows × 4 columns</p>\n",
       "</div>"
      ],
      "text/plain": [
       "          userId  movieId  rating   timestamp\n",
       "1729638     4864       17     5.0   825499934\n",
       "1729636     4864       11     5.0   825499934\n",
       "1729635     4864       10     3.0   825499934\n",
       "1729653     4864       79     1.0   825499934\n",
       "1729637     4864       14     4.0   825499935\n",
       "...          ...      ...     ...         ...\n",
       "21298780    3161     1584     4.0  1501782344\n",
       "21298784    3161     2005     3.5  1501782502\n",
       "21593322    5990     3147     4.0  1501815991\n",
       "21593333    5990     5445     3.5  1501816235\n",
       "21071504     741     8866     3.5  1501822222\n",
       "\n",
       "[2020157 rows x 4 columns]"
      ]
     },
     "execution_count": 27,
     "metadata": {},
     "output_type": "execute_result"
    }
   ],
   "source": [
    "ratings"
   ]
  },
  {
   "cell_type": "code",
   "execution_count": 33,
   "metadata": {},
   "outputs": [
    {
     "data": {
      "text/plain": [
       "array([5., 3., 1., 4., 2.])"
      ]
     },
     "execution_count": 33,
     "metadata": {},
     "output_type": "execute_result"
    }
   ],
   "source": [
    "ratings.rating.unique()"
   ]
  },
  {
   "cell_type": "code",
   "execution_count": 32,
   "metadata": {},
   "outputs": [],
   "source": [
    "import numpy as np\n",
    "ratings['rating'] = ratings['rating'].apply(np.ceil)"
   ]
  },
  {
   "cell_type": "code",
   "execution_count": 34,
   "metadata": {},
   "outputs": [
    {
     "data": {
      "text/plain": [
       "[Text(0.5, 1.0, 'Number of ratings per category (1-5)')]"
      ]
     },
     "execution_count": 34,
     "metadata": {},
     "output_type": "execute_result"
    },
    {
     "data": {
      "image/png": "[encoded data removed]",
      "text/plain": [
       "<Figure size 432x288 with 1 Axes>"
      ]
     },
     "metadata": {
      "needs_background": "light"
     },
     "output_type": "display_data"
    }
   ],
   "source": [
    "import seaborn as sns\n",
    "plot_rating_count = sns.countplot(x='rating',data=ratings,color='blue')\n",
    "plot_rating_count.set_xlabel(\"Ratings\")\n",
    "plot_rating_count.set_xlabel(\"Count\")\n",
    "plot_rating_count.set(title = \"Number of ratings per category (1-5)\")"
   ]
  },
  {
   "cell_type": "code",
   "execution_count": 35,
   "metadata": {},
   "outputs": [],
   "source": [
    "ratings.to_pickle(\"D:/University/Edinburgh/Dissertation/Data/ratings_cls_1_5_2m.pkl\")"
   ]
  },
  {
   "cell_type": "code",
   "execution_count": null,
   "metadata": {},
   "outputs": [],
   "source": []
  }
 ],
 "metadata": {
  "interpreter": {
   "hash": "3211dc43ab34930f11a9a22ea04b20f87c15e7fbdb07e5e2aecfd06158e2e37a"
  },
  "kernelspec": {
   "display_name": "Python 3.6.13 ('PTVQA')",
   "language": "python",
   "name": "python3"
  },
  "language_info": {
   "codemirror_mode": {
    "name": "ipython",
    "version": 3
   },
   "file_extension": ".py",
   "mimetype": "text/x-python",
   "name": "python",
   "nbconvert_exporter": "python",
   "pygments_lexer": "ipython3",
   "version": "3.6.13"
  },
  "orig_nbformat": 4
 },
 "nbformat": 4,
 "nbformat_minor": 2
}
