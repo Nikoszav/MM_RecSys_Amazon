{
 "cells": [
  {
   "cell_type": "code",
   "execution_count": 231,
   "metadata": {},
   "outputs": [],
   "source": [
    "import pandas as pd \n",
    "\n",
    "movies = pd.read_csv(\"./data/movies_metadata.csv\", low_memory=False)"
   ]
  },
  {
   "cell_type": "code",
   "execution_count": 232,
   "metadata": {},
   "outputs": [
    {
     "data": {
      "text/plain": [
       "Index(['adult', 'belongs_to_collection', 'budget', 'genres', 'homepage', 'id',\n",
       "       'imdb_id', 'original_language', 'original_title', 'overview',\n",
       "       'popularity', 'poster_path', 'production_companies',\n",
       "       'production_countries', 'release_date', 'revenue', 'runtime',\n",
       "       'spoken_languages', 'status', 'tagline', 'title', 'video',\n",
       "       'vote_average', 'vote_count'],\n",
       "      dtype='object')"
      ]
     },
     "execution_count": 232,
     "metadata": {},
     "output_type": "execute_result"
    }
   ],
   "source": [
    "movies.columns.unique()"
   ]
  },
  {
   "cell_type": "markdown",
   "metadata": {},
   "source": [
    "Drop movies which doesn't have imbd index"
   ]
  },
  {
   "cell_type": "code",
   "execution_count": 233,
   "metadata": {},
   "outputs": [
    {
     "name": "stdout",
     "output_type": "stream",
     "text": [
      "Int64Index([ 8966, 13757, 13821, 17382, 17510, 18959, 19322, 20806, 20937,\n",
      "            21916, 22987, 23744, 33753, 36955, 40809, 41832, 45070],\n",
      "           dtype='int64')\n",
      "17\n"
     ]
    }
   ],
   "source": [
    "#identify nan values\n",
    "ind_movies = movies.index\n",
    "ind_nan_movies = ind_movies[movies[\"imdb_id\"].isnull()]\n",
    "print(ind_nan_movies)\n",
    "print(movies[\"imdb_id\"].isnull().sum())\n"
   ]
  },
  {
   "cell_type": "code",
   "execution_count": 236,
   "metadata": {},
   "outputs": [
    {
     "name": "stdout",
     "output_type": "stream",
     "text": [
      "Length of movies after droping 45449 and length of movies before droping 45466\n"
     ]
    }
   ],
   "source": [
    "movies_droped = movies.drop(ind_nan_movies)\n",
    "movies_droped.reset_index(inplace= True)\n",
    "movies_droped.rename(columns={'id':'tmdbId'}, inplace=True)\n",
    "print(\"Length of movies after droping {} and length of movies before droping {}\".format(len(movies_droped), len(movies)))"
   ]
  },
  {
   "cell_type": "code",
   "execution_count": 8,
   "metadata": {},
   "outputs": [
    {
     "data": {
      "text/plain": [
       "True"
      ]
     },
     "execution_count": 8,
     "metadata": {},
     "output_type": "execute_result"
    }
   ],
   "source": [
    "#check that droping is working\n",
    "len(movies) - len(movies_droped) ==  movies[\"imdb_id\"].isnull().sum()"
   ]
  },
  {
   "cell_type": "markdown",
   "metadata": {},
   "source": [
    "Remove rows that have 0 imdb_id"
   ]
  },
  {
   "cell_type": "code",
   "execution_count": 241,
   "metadata": {},
   "outputs": [],
   "source": [
    "ind_remoal = movies_droped.loc[movies_droped['imdb_id'] == '0'].index\n",
    "movies_droped = movies_droped.drop(ind_remoal)\n",
    "movies_droped.reset_index(inplace=True)"
   ]
  },
  {
   "cell_type": "markdown",
   "metadata": {},
   "source": [
    "Match images with the movies in dataset"
   ]
  },
  {
   "cell_type": "code",
   "execution_count": 191,
   "metadata": {},
   "outputs": [],
   "source": [
    "import os \n",
    "from os import listdir\n",
    "from os.path import isfile, join\n",
    "path = \"./poster_downloads/\"\n",
    "images_file_path = [f for f in listdir(path) if isfile(join(path, f))]"
   ]
  },
  {
   "cell_type": "markdown",
   "metadata": {},
   "source": [
    "ranaming of images files"
   ]
  },
  {
   "cell_type": "code",
   "execution_count": 6,
   "metadata": {},
   "outputs": [],
   "source": [
    "# test = images_file_path[1]\n",
    "# t = test[test.find('_')+1:]\n",
    "# new_test = path+test\n",
    "# os.rename(new_test, path+t)\n"
   ]
  },
  {
   "cell_type": "code",
   "execution_count": 7,
   "metadata": {},
   "outputs": [],
   "source": [
    "# for i in range(len(images_file_path)):\n",
    "#     test = images_file_path[i]\n",
    "#     t = test[test.find('_')+1:]\n",
    "#     new_test = path+test\n",
    "#     try:\n",
    "#       os.rename(new_test, path+t)\n",
    "#     except FileNotFoundError:\n",
    "#         pass"
   ]
  },
  {
   "cell_type": "code",
   "execution_count": 8,
   "metadata": {},
   "outputs": [],
   "source": [
    "# new_test = path+test\n",
    "\n",
    "# os.rename(new_test, path+t)\n"
   ]
  },
  {
   "cell_type": "markdown",
   "metadata": {},
   "source": [
    "Create the dataframe for the images"
   ]
  },
  {
   "cell_type": "code",
   "execution_count": 192,
   "metadata": {},
   "outputs": [
    {
     "data": {
      "text/plain": [
       "9078"
      ]
     },
     "execution_count": 192,
     "metadata": {},
     "output_type": "execute_result"
    }
   ],
   "source": [
    "len(images_file_path)"
   ]
  },
  {
   "cell_type": "code",
   "execution_count": 183,
   "metadata": {},
   "outputs": [],
   "source": [
    "test = [len(movie) for movie in movies_droped[\"imdb_id\"]]\n",
    "for t in range (len(test)): \n",
    "    if test[t] != 9:\n",
    "        print(t, test[t])"
   ]
  },
  {
   "cell_type": "code",
   "execution_count": 193,
   "metadata": {},
   "outputs": [],
   "source": [
    "images_file_path_processed = []\n",
    "for path in images_file_path:\n",
    "    target = path[:len(path) - 4]\n",
    "\n",
    "    ans = 7 - len(target)\n",
    "    images_file_path_processed.append(\"tt\"+(\"0\" * ans) + target)"
   ]
  },
  {
   "cell_type": "code",
   "execution_count": 194,
   "metadata": {},
   "outputs": [
    {
     "name": "stdout",
     "output_type": "stream",
     "text": [
      "Test if the length are the same:  True\n"
     ]
    },
    {
     "data": {
      "text/plain": [
       "['tt0100046',\n",
       " 'tt0100049',\n",
       " 'tt0100050',\n",
       " 'tt0100054',\n",
       " 'tt0100065',\n",
       " 'tt0100087',\n",
       " 'tt0100112',\n",
       " 'tt0100114',\n",
       " 'tt0100129',\n",
       " 'tt0100133']"
      ]
     },
     "execution_count": 194,
     "metadata": {},
     "output_type": "execute_result"
    }
   ],
   "source": [
    "print(\"Test if the length are the same: \", len(images_file_path_processed) == len (images_file_path))\n",
    "test = [len(movie) for movie in images_file_path_processed]\n",
    "for t in range (len(test)): \n",
    "    if test[t] != 9:\n",
    "        print(t, test[t])\n",
    "\n",
    "images_file_path_processed[0:10]"
   ]
  },
  {
   "cell_type": "code",
   "execution_count": 214,
   "metadata": {},
   "outputs": [],
   "source": [
    "images_dataset = pd.DataFrame({\"imdb_id\" :images_file_path_processed, \"path\" : images_file_path })"
   ]
  },
  {
   "cell_type": "code",
   "execution_count": 215,
   "metadata": {},
   "outputs": [
    {
     "data": {
      "text/html": [
       "<div>\n",
       "<style scoped>\n",
       "    .dataframe tbody tr th:only-of-type {\n",
       "        vertical-align: middle;\n",
       "    }\n",
       "\n",
       "    .dataframe tbody tr th {\n",
       "        vertical-align: top;\n",
       "    }\n",
       "\n",
       "    .dataframe thead th {\n",
       "        text-align: right;\n",
       "    }\n",
       "</style>\n",
       "<table border=\"1\" class=\"dataframe\">\n",
       "  <thead>\n",
       "    <tr style=\"text-align: right;\">\n",
       "      <th></th>\n",
       "      <th>imdb_id</th>\n",
       "      <th>path</th>\n",
       "    </tr>\n",
       "  </thead>\n",
       "  <tbody>\n",
       "    <tr>\n",
       "      <th>0</th>\n",
       "      <td>tt0100046</td>\n",
       "      <td>100046.jpg</td>\n",
       "    </tr>\n",
       "    <tr>\n",
       "      <th>1</th>\n",
       "      <td>tt0100049</td>\n",
       "      <td>100049.jpg</td>\n",
       "    </tr>\n",
       "    <tr>\n",
       "      <th>2</th>\n",
       "      <td>tt0100050</td>\n",
       "      <td>100050.jpg</td>\n",
       "    </tr>\n",
       "    <tr>\n",
       "      <th>3</th>\n",
       "      <td>tt0100054</td>\n",
       "      <td>100054.jpg</td>\n",
       "    </tr>\n",
       "    <tr>\n",
       "      <th>4</th>\n",
       "      <td>tt0100065</td>\n",
       "      <td>100065.jpg</td>\n",
       "    </tr>\n",
       "    <tr>\n",
       "      <th>...</th>\n",
       "      <td>...</td>\n",
       "      <td>...</td>\n",
       "    </tr>\n",
       "    <tr>\n",
       "      <th>9073</th>\n",
       "      <td>tt0099857</td>\n",
       "      <td>99857.jpg</td>\n",
       "    </tr>\n",
       "    <tr>\n",
       "      <th>9074</th>\n",
       "      <td>tt0099938</td>\n",
       "      <td>99938.jpg</td>\n",
       "    </tr>\n",
       "    <tr>\n",
       "      <th>9075</th>\n",
       "      <td>tt0099939</td>\n",
       "      <td>99939.jpg</td>\n",
       "    </tr>\n",
       "    <tr>\n",
       "      <th>9076</th>\n",
       "      <td>tt0099969</td>\n",
       "      <td>99969.jpg</td>\n",
       "    </tr>\n",
       "    <tr>\n",
       "      <th>9077</th>\n",
       "      <td>tt0099994</td>\n",
       "      <td>99994.jpg</td>\n",
       "    </tr>\n",
       "  </tbody>\n",
       "</table>\n",
       "<p>9078 rows × 2 columns</p>\n",
       "</div>"
      ],
      "text/plain": [
       "        imdb_id        path\n",
       "0     tt0100046  100046.jpg\n",
       "1     tt0100049  100049.jpg\n",
       "2     tt0100050  100050.jpg\n",
       "3     tt0100054  100054.jpg\n",
       "4     tt0100065  100065.jpg\n",
       "...         ...         ...\n",
       "9073  tt0099857   99857.jpg\n",
       "9074  tt0099938   99938.jpg\n",
       "9075  tt0099939   99939.jpg\n",
       "9076  tt0099969   99969.jpg\n",
       "9077  tt0099994   99994.jpg\n",
       "\n",
       "[9078 rows x 2 columns]"
      ]
     },
     "execution_count": 215,
     "metadata": {},
     "output_type": "execute_result"
    }
   ],
   "source": [
    "images_dataset"
   ]
  },
  {
   "cell_type": "markdown",
   "metadata": {},
   "source": [
    "Combine metadata with the links file"
   ]
  },
  {
   "cell_type": "code",
   "execution_count": 15,
   "metadata": {},
   "outputs": [],
   "source": [
    "links = pd.read_csv(\"data/links.csv\")"
   ]
  },
  {
   "cell_type": "markdown",
   "metadata": {},
   "source": [
    "Remove null index of tmdb column "
   ]
  },
  {
   "cell_type": "code",
   "execution_count": 45,
   "metadata": {},
   "outputs": [
    {
     "name": "stdout",
     "output_type": "stream",
     "text": [
      "Int64Index([  140,   598,   708,   709,   718,   756,   757,   778,   806,\n",
      "              844,\n",
      "            ...\n",
      "            24491, 24591, 24597, 24608, 24620, 24673, 24775, 24802, 28570,\n",
      "            35278],\n",
      "           dtype='int64', length=219)\n",
      "219\n"
     ]
    }
   ],
   "source": [
    "ind_links = links.index\n",
    "ind_nan_links = ind_links[links[\"tmdbId\"].isnull()]\n",
    "print(ind_nan_links)\n",
    "print(links[\"tmdbId\"].isnull().sum())"
   ]
  },
  {
   "cell_type": "code",
   "execution_count": 46,
   "metadata": {},
   "outputs": [],
   "source": [
    "links_droped = links.drop(ind_nan_links)\n",
    "links_droped.reset_index(inplace= True)"
   ]
  },
  {
   "cell_type": "code",
   "execution_count": 49,
   "metadata": {},
   "outputs": [
    {
     "data": {
      "text/plain": [
       "219"
      ]
     },
     "execution_count": 49,
     "metadata": {},
     "output_type": "execute_result"
    }
   ],
   "source": [
    "len(links)- len(links_droped)"
   ]
  },
  {
   "cell_type": "markdown",
   "metadata": {},
   "source": [
    "Isolate the field that you are interested from the metadata table"
   ]
  },
  {
   "cell_type": "code",
   "execution_count": 242,
   "metadata": {},
   "outputs": [],
   "source": [
    "movies_metadata = movies_droped[[\"tmdbId\", \"imdb_id\", \"title\", \"overview\"]]"
   ]
  },
  {
   "cell_type": "code",
   "execution_count": 243,
   "metadata": {},
   "outputs": [
    {
     "data": {
      "text/plain": [
       "tmdbId      object\n",
       "imdb_id     object\n",
       "title       object\n",
       "overview    object\n",
       "dtype: object"
      ]
     },
     "execution_count": 243,
     "metadata": {},
     "output_type": "execute_result"
    }
   ],
   "source": [
    "movies_metadata.dtypes"
   ]
  },
  {
   "cell_type": "markdown",
   "metadata": {},
   "source": [
    "Change data types to make the merge possible"
   ]
  },
  {
   "cell_type": "code",
   "execution_count": 254,
   "metadata": {},
   "outputs": [
    {
     "name": "stderr",
     "output_type": "stream",
     "text": [
      "c:\\Users\\nikol\\anaconda3\\envs\\PTVQA\\lib\\site-packages\\ipykernel_launcher.py:1: SettingWithCopyWarning: \n",
      "A value is trying to be set on a copy of a slice from a DataFrame.\n",
      "Try using .loc[row_indexer,col_indexer] = value instead\n",
      "\n",
      "See the caveats in the documentation: http://pandas.pydata.org/pandas-docs/stable/user_guide/indexing.html#returning-a-view-versus-a-copy\n",
      "  \"\"\"Entry point for launching an IPython kernel.\n"
     ]
    }
   ],
   "source": [
    "movies_metadata[\"tmdbId\"] = pd.to_numeric(movies_metadata[\"tmdbId\"])"
   ]
  },
  {
   "cell_type": "code",
   "execution_count": 251,
   "metadata": {},
   "outputs": [],
   "source": [
    "links_droped[\"tmdbId\"] = pd.to_numeric(links_droped[\"tmdbId\"])"
   ]
  },
  {
   "cell_type": "code",
   "execution_count": 255,
   "metadata": {},
   "outputs": [
    {
     "data": {
      "text/plain": [
       "tmdbId       int64\n",
       "imdb_id     object\n",
       "title       object\n",
       "overview    object\n",
       "dtype: object"
      ]
     },
     "execution_count": 255,
     "metadata": {},
     "output_type": "execute_result"
    }
   ],
   "source": [
    "movies_metadata.dtypes"
   ]
  },
  {
   "cell_type": "code",
   "execution_count": 253,
   "metadata": {},
   "outputs": [
    {
     "data": {
      "text/plain": [
       "index        int64\n",
       "movieId      int64\n",
       "imdbId       int64\n",
       "tmdbId     float64\n",
       "dtype: object"
      ]
     },
     "execution_count": 253,
     "metadata": {},
     "output_type": "execute_result"
    }
   ],
   "source": [
    "links_droped.dtypes"
   ]
  },
  {
   "cell_type": "code",
   "execution_count": 256,
   "metadata": {},
   "outputs": [
    {
     "data": {
      "text/html": [
       "<div>\n",
       "<style scoped>\n",
       "    .dataframe tbody tr th:only-of-type {\n",
       "        vertical-align: middle;\n",
       "    }\n",
       "\n",
       "    .dataframe tbody tr th {\n",
       "        vertical-align: top;\n",
       "    }\n",
       "\n",
       "    .dataframe thead th {\n",
       "        text-align: right;\n",
       "    }\n",
       "</style>\n",
       "<table border=\"1\" class=\"dataframe\">\n",
       "  <thead>\n",
       "    <tr style=\"text-align: right;\">\n",
       "      <th></th>\n",
       "      <th>tmdbId</th>\n",
       "      <th>imdb_id</th>\n",
       "      <th>title</th>\n",
       "      <th>overview</th>\n",
       "    </tr>\n",
       "  </thead>\n",
       "  <tbody>\n",
       "    <tr>\n",
       "      <th>0</th>\n",
       "      <td>862</td>\n",
       "      <td>tt0114709</td>\n",
       "      <td>Toy Story</td>\n",
       "      <td>Led by Woody, Andy's toys live happily in his ...</td>\n",
       "    </tr>\n",
       "    <tr>\n",
       "      <th>1</th>\n",
       "      <td>8844</td>\n",
       "      <td>tt0113497</td>\n",
       "      <td>Jumanji</td>\n",
       "      <td>When siblings Judy and Peter discover an encha...</td>\n",
       "    </tr>\n",
       "    <tr>\n",
       "      <th>2</th>\n",
       "      <td>15602</td>\n",
       "      <td>tt0113228</td>\n",
       "      <td>Grumpier Old Men</td>\n",
       "      <td>A family wedding reignites the ancient feud be...</td>\n",
       "    </tr>\n",
       "    <tr>\n",
       "      <th>3</th>\n",
       "      <td>31357</td>\n",
       "      <td>tt0114885</td>\n",
       "      <td>Waiting to Exhale</td>\n",
       "      <td>Cheated on, mistreated and stepped on, the wom...</td>\n",
       "    </tr>\n",
       "    <tr>\n",
       "      <th>4</th>\n",
       "      <td>11862</td>\n",
       "      <td>tt0113041</td>\n",
       "      <td>Father of the Bride Part II</td>\n",
       "      <td>Just when George Banks has recovered from his ...</td>\n",
       "    </tr>\n",
       "    <tr>\n",
       "      <th>...</th>\n",
       "      <td>...</td>\n",
       "      <td>...</td>\n",
       "      <td>...</td>\n",
       "      <td>...</td>\n",
       "    </tr>\n",
       "    <tr>\n",
       "      <th>45441</th>\n",
       "      <td>439050</td>\n",
       "      <td>tt6209470</td>\n",
       "      <td>Subdue</td>\n",
       "      <td>Rising and falling between a man and woman.</td>\n",
       "    </tr>\n",
       "    <tr>\n",
       "      <th>45442</th>\n",
       "      <td>111109</td>\n",
       "      <td>tt2028550</td>\n",
       "      <td>Century of Birthing</td>\n",
       "      <td>An artist struggles to finish his work while a...</td>\n",
       "    </tr>\n",
       "    <tr>\n",
       "      <th>45443</th>\n",
       "      <td>67758</td>\n",
       "      <td>tt0303758</td>\n",
       "      <td>Betrayal</td>\n",
       "      <td>When one of her hits goes wrong, a professiona...</td>\n",
       "    </tr>\n",
       "    <tr>\n",
       "      <th>45444</th>\n",
       "      <td>227506</td>\n",
       "      <td>tt0008536</td>\n",
       "      <td>Satan Triumphant</td>\n",
       "      <td>In a small town live two brothers, one a minis...</td>\n",
       "    </tr>\n",
       "    <tr>\n",
       "      <th>45445</th>\n",
       "      <td>461257</td>\n",
       "      <td>tt6980792</td>\n",
       "      <td>Queerama</td>\n",
       "      <td>50 years after decriminalisation of homosexual...</td>\n",
       "    </tr>\n",
       "  </tbody>\n",
       "</table>\n",
       "<p>45446 rows × 4 columns</p>\n",
       "</div>"
      ],
      "text/plain": [
       "       tmdbId    imdb_id                        title  \\\n",
       "0         862  tt0114709                    Toy Story   \n",
       "1        8844  tt0113497                      Jumanji   \n",
       "2       15602  tt0113228             Grumpier Old Men   \n",
       "3       31357  tt0114885            Waiting to Exhale   \n",
       "4       11862  tt0113041  Father of the Bride Part II   \n",
       "...       ...        ...                          ...   \n",
       "45441  439050  tt6209470                       Subdue   \n",
       "45442  111109  tt2028550          Century of Birthing   \n",
       "45443   67758  tt0303758                     Betrayal   \n",
       "45444  227506  tt0008536             Satan Triumphant   \n",
       "45445  461257  tt6980792                     Queerama   \n",
       "\n",
       "                                                overview  \n",
       "0      Led by Woody, Andy's toys live happily in his ...  \n",
       "1      When siblings Judy and Peter discover an encha...  \n",
       "2      A family wedding reignites the ancient feud be...  \n",
       "3      Cheated on, mistreated and stepped on, the wom...  \n",
       "4      Just when George Banks has recovered from his ...  \n",
       "...                                                  ...  \n",
       "45441        Rising and falling between a man and woman.  \n",
       "45442  An artist struggles to finish his work while a...  \n",
       "45443  When one of her hits goes wrong, a professiona...  \n",
       "45444  In a small town live two brothers, one a minis...  \n",
       "45445  50 years after decriminalisation of homosexual...  \n",
       "\n",
       "[45446 rows x 4 columns]"
      ]
     },
     "execution_count": 256,
     "metadata": {},
     "output_type": "execute_result"
    }
   ],
   "source": [
    "movies_metadata"
   ]
  },
  {
   "cell_type": "code",
   "execution_count": 258,
   "metadata": {},
   "outputs": [],
   "source": [
    "links_droped.drop(\"index\", axis=1, inplace=True)"
   ]
  },
  {
   "cell_type": "code",
   "execution_count": 259,
   "metadata": {},
   "outputs": [
    {
     "data": {
      "text/html": [
       "<div>\n",
       "<style scoped>\n",
       "    .dataframe tbody tr th:only-of-type {\n",
       "        vertical-align: middle;\n",
       "    }\n",
       "\n",
       "    .dataframe tbody tr th {\n",
       "        vertical-align: top;\n",
       "    }\n",
       "\n",
       "    .dataframe thead th {\n",
       "        text-align: right;\n",
       "    }\n",
       "</style>\n",
       "<table border=\"1\" class=\"dataframe\">\n",
       "  <thead>\n",
       "    <tr style=\"text-align: right;\">\n",
       "      <th></th>\n",
       "      <th>movieId</th>\n",
       "      <th>imdbId</th>\n",
       "      <th>tmdbId</th>\n",
       "    </tr>\n",
       "  </thead>\n",
       "  <tbody>\n",
       "    <tr>\n",
       "      <th>0</th>\n",
       "      <td>1</td>\n",
       "      <td>114709</td>\n",
       "      <td>862.0</td>\n",
       "    </tr>\n",
       "    <tr>\n",
       "      <th>1</th>\n",
       "      <td>2</td>\n",
       "      <td>113497</td>\n",
       "      <td>8844.0</td>\n",
       "    </tr>\n",
       "    <tr>\n",
       "      <th>2</th>\n",
       "      <td>3</td>\n",
       "      <td>113228</td>\n",
       "      <td>15602.0</td>\n",
       "    </tr>\n",
       "    <tr>\n",
       "      <th>3</th>\n",
       "      <td>4</td>\n",
       "      <td>114885</td>\n",
       "      <td>31357.0</td>\n",
       "    </tr>\n",
       "    <tr>\n",
       "      <th>4</th>\n",
       "      <td>5</td>\n",
       "      <td>113041</td>\n",
       "      <td>11862.0</td>\n",
       "    </tr>\n",
       "    <tr>\n",
       "      <th>...</th>\n",
       "      <td>...</td>\n",
       "      <td>...</td>\n",
       "      <td>...</td>\n",
       "    </tr>\n",
       "    <tr>\n",
       "      <th>45838</th>\n",
       "      <td>176269</td>\n",
       "      <td>6209470</td>\n",
       "      <td>439050.0</td>\n",
       "    </tr>\n",
       "    <tr>\n",
       "      <th>45839</th>\n",
       "      <td>176271</td>\n",
       "      <td>2028550</td>\n",
       "      <td>111109.0</td>\n",
       "    </tr>\n",
       "    <tr>\n",
       "      <th>45840</th>\n",
       "      <td>176273</td>\n",
       "      <td>303758</td>\n",
       "      <td>67758.0</td>\n",
       "    </tr>\n",
       "    <tr>\n",
       "      <th>45841</th>\n",
       "      <td>176275</td>\n",
       "      <td>8536</td>\n",
       "      <td>227506.0</td>\n",
       "    </tr>\n",
       "    <tr>\n",
       "      <th>45842</th>\n",
       "      <td>176279</td>\n",
       "      <td>6980792</td>\n",
       "      <td>461257.0</td>\n",
       "    </tr>\n",
       "  </tbody>\n",
       "</table>\n",
       "<p>45843 rows × 3 columns</p>\n",
       "</div>"
      ],
      "text/plain": [
       "       movieId   imdbId    tmdbId\n",
       "0            1   114709     862.0\n",
       "1            2   113497    8844.0\n",
       "2            3   113228   15602.0\n",
       "3            4   114885   31357.0\n",
       "4            5   113041   11862.0\n",
       "...        ...      ...       ...\n",
       "45838   176269  6209470  439050.0\n",
       "45839   176271  2028550  111109.0\n",
       "45840   176273   303758   67758.0\n",
       "45841   176275     8536  227506.0\n",
       "45842   176279  6980792  461257.0\n",
       "\n",
       "[45843 rows x 3 columns]"
      ]
     },
     "execution_count": 259,
     "metadata": {},
     "output_type": "execute_result"
    }
   ],
   "source": [
    "links"
   ]
  },
  {
   "cell_type": "markdown",
   "metadata": {},
   "source": [
    "Start merging"
   ]
  },
  {
   "cell_type": "code",
   "execution_count": 260,
   "metadata": {},
   "outputs": [],
   "source": [
    "#merge the links with metadata\n",
    "links_metadata_dataset = movies_metadata.merge(links, on='tmdbId', how='inner')"
   ]
  },
  {
   "cell_type": "code",
   "execution_count": 261,
   "metadata": {},
   "outputs": [
    {
     "data": {
      "text/html": [
       "<div>\n",
       "<style scoped>\n",
       "    .dataframe tbody tr th:only-of-type {\n",
       "        vertical-align: middle;\n",
       "    }\n",
       "\n",
       "    .dataframe tbody tr th {\n",
       "        vertical-align: top;\n",
       "    }\n",
       "\n",
       "    .dataframe thead th {\n",
       "        text-align: right;\n",
       "    }\n",
       "</style>\n",
       "<table border=\"1\" class=\"dataframe\">\n",
       "  <thead>\n",
       "    <tr style=\"text-align: right;\">\n",
       "      <th></th>\n",
       "      <th>tmdbId</th>\n",
       "      <th>imdb_id</th>\n",
       "      <th>title</th>\n",
       "      <th>overview</th>\n",
       "      <th>movieId</th>\n",
       "      <th>imdbId</th>\n",
       "    </tr>\n",
       "  </thead>\n",
       "  <tbody>\n",
       "    <tr>\n",
       "      <th>0</th>\n",
       "      <td>862</td>\n",
       "      <td>tt0114709</td>\n",
       "      <td>Toy Story</td>\n",
       "      <td>Led by Woody, Andy's toys live happily in his ...</td>\n",
       "      <td>1</td>\n",
       "      <td>114709</td>\n",
       "    </tr>\n",
       "    <tr>\n",
       "      <th>1</th>\n",
       "      <td>8844</td>\n",
       "      <td>tt0113497</td>\n",
       "      <td>Jumanji</td>\n",
       "      <td>When siblings Judy and Peter discover an encha...</td>\n",
       "      <td>2</td>\n",
       "      <td>113497</td>\n",
       "    </tr>\n",
       "    <tr>\n",
       "      <th>2</th>\n",
       "      <td>15602</td>\n",
       "      <td>tt0113228</td>\n",
       "      <td>Grumpier Old Men</td>\n",
       "      <td>A family wedding reignites the ancient feud be...</td>\n",
       "      <td>3</td>\n",
       "      <td>113228</td>\n",
       "    </tr>\n",
       "    <tr>\n",
       "      <th>3</th>\n",
       "      <td>31357</td>\n",
       "      <td>tt0114885</td>\n",
       "      <td>Waiting to Exhale</td>\n",
       "      <td>Cheated on, mistreated and stepped on, the wom...</td>\n",
       "      <td>4</td>\n",
       "      <td>114885</td>\n",
       "    </tr>\n",
       "    <tr>\n",
       "      <th>4</th>\n",
       "      <td>11862</td>\n",
       "      <td>tt0113041</td>\n",
       "      <td>Father of the Bride Part II</td>\n",
       "      <td>Just when George Banks has recovered from his ...</td>\n",
       "      <td>5</td>\n",
       "      <td>113041</td>\n",
       "    </tr>\n",
       "    <tr>\n",
       "      <th>...</th>\n",
       "      <td>...</td>\n",
       "      <td>...</td>\n",
       "      <td>...</td>\n",
       "      <td>...</td>\n",
       "      <td>...</td>\n",
       "      <td>...</td>\n",
       "    </tr>\n",
       "    <tr>\n",
       "      <th>45503</th>\n",
       "      <td>439050</td>\n",
       "      <td>tt6209470</td>\n",
       "      <td>Subdue</td>\n",
       "      <td>Rising and falling between a man and woman.</td>\n",
       "      <td>176269</td>\n",
       "      <td>6209470</td>\n",
       "    </tr>\n",
       "    <tr>\n",
       "      <th>45504</th>\n",
       "      <td>111109</td>\n",
       "      <td>tt2028550</td>\n",
       "      <td>Century of Birthing</td>\n",
       "      <td>An artist struggles to finish his work while a...</td>\n",
       "      <td>176271</td>\n",
       "      <td>2028550</td>\n",
       "    </tr>\n",
       "    <tr>\n",
       "      <th>45505</th>\n",
       "      <td>67758</td>\n",
       "      <td>tt0303758</td>\n",
       "      <td>Betrayal</td>\n",
       "      <td>When one of her hits goes wrong, a professiona...</td>\n",
       "      <td>176273</td>\n",
       "      <td>303758</td>\n",
       "    </tr>\n",
       "    <tr>\n",
       "      <th>45506</th>\n",
       "      <td>227506</td>\n",
       "      <td>tt0008536</td>\n",
       "      <td>Satan Triumphant</td>\n",
       "      <td>In a small town live two brothers, one a minis...</td>\n",
       "      <td>176275</td>\n",
       "      <td>8536</td>\n",
       "    </tr>\n",
       "    <tr>\n",
       "      <th>45507</th>\n",
       "      <td>461257</td>\n",
       "      <td>tt6980792</td>\n",
       "      <td>Queerama</td>\n",
       "      <td>50 years after decriminalisation of homosexual...</td>\n",
       "      <td>176279</td>\n",
       "      <td>6980792</td>\n",
       "    </tr>\n",
       "  </tbody>\n",
       "</table>\n",
       "<p>45508 rows × 6 columns</p>\n",
       "</div>"
      ],
      "text/plain": [
       "       tmdbId    imdb_id                        title  \\\n",
       "0         862  tt0114709                    Toy Story   \n",
       "1        8844  tt0113497                      Jumanji   \n",
       "2       15602  tt0113228             Grumpier Old Men   \n",
       "3       31357  tt0114885            Waiting to Exhale   \n",
       "4       11862  tt0113041  Father of the Bride Part II   \n",
       "...       ...        ...                          ...   \n",
       "45503  439050  tt6209470                       Subdue   \n",
       "45504  111109  tt2028550          Century of Birthing   \n",
       "45505   67758  tt0303758                     Betrayal   \n",
       "45506  227506  tt0008536             Satan Triumphant   \n",
       "45507  461257  tt6980792                     Queerama   \n",
       "\n",
       "                                                overview  movieId   imdbId  \n",
       "0      Led by Woody, Andy's toys live happily in his ...        1   114709  \n",
       "1      When siblings Judy and Peter discover an encha...        2   113497  \n",
       "2      A family wedding reignites the ancient feud be...        3   113228  \n",
       "3      Cheated on, mistreated and stepped on, the wom...        4   114885  \n",
       "4      Just when George Banks has recovered from his ...        5   113041  \n",
       "...                                                  ...      ...      ...  \n",
       "45503        Rising and falling between a man and woman.   176269  6209470  \n",
       "45504  An artist struggles to finish his work while a...   176271  2028550  \n",
       "45505  When one of her hits goes wrong, a professiona...   176273   303758  \n",
       "45506  In a small town live two brothers, one a minis...   176275     8536  \n",
       "45507  50 years after decriminalisation of homosexual...   176279  6980792  \n",
       "\n",
       "[45508 rows x 6 columns]"
      ]
     },
     "execution_count": 261,
     "metadata": {},
     "output_type": "execute_result"
    }
   ],
   "source": [
    "links_metadata_dataset"
   ]
  },
  {
   "cell_type": "code",
   "execution_count": 266,
   "metadata": {},
   "outputs": [],
   "source": [
    "#merge the links_metadata with the images \n",
    "final_dataset = links_metadata_dataset.merge(images_dataset, on='imdb_id', how='inner')"
   ]
  },
  {
   "cell_type": "code",
   "execution_count": 267,
   "metadata": {},
   "outputs": [
    {
     "data": {
      "text/html": [
       "<div>\n",
       "<style scoped>\n",
       "    .dataframe tbody tr th:only-of-type {\n",
       "        vertical-align: middle;\n",
       "    }\n",
       "\n",
       "    .dataframe tbody tr th {\n",
       "        vertical-align: top;\n",
       "    }\n",
       "\n",
       "    .dataframe thead th {\n",
       "        text-align: right;\n",
       "    }\n",
       "</style>\n",
       "<table border=\"1\" class=\"dataframe\">\n",
       "  <thead>\n",
       "    <tr style=\"text-align: right;\">\n",
       "      <th></th>\n",
       "      <th>tmdbId</th>\n",
       "      <th>imdb_id</th>\n",
       "      <th>title</th>\n",
       "      <th>overview</th>\n",
       "      <th>movieId</th>\n",
       "      <th>imdbId</th>\n",
       "      <th>path</th>\n",
       "    </tr>\n",
       "  </thead>\n",
       "  <tbody>\n",
       "    <tr>\n",
       "      <th>0</th>\n",
       "      <td>862</td>\n",
       "      <td>tt0114709</td>\n",
       "      <td>Toy Story</td>\n",
       "      <td>Led by Woody, Andy's toys live happily in his ...</td>\n",
       "      <td>1</td>\n",
       "      <td>114709</td>\n",
       "      <td>114709.jpg</td>\n",
       "    </tr>\n",
       "    <tr>\n",
       "      <th>1</th>\n",
       "      <td>8844</td>\n",
       "      <td>tt0113497</td>\n",
       "      <td>Jumanji</td>\n",
       "      <td>When siblings Judy and Peter discover an encha...</td>\n",
       "      <td>2</td>\n",
       "      <td>113497</td>\n",
       "      <td>113497.jpg</td>\n",
       "    </tr>\n",
       "    <tr>\n",
       "      <th>2</th>\n",
       "      <td>15602</td>\n",
       "      <td>tt0113228</td>\n",
       "      <td>Grumpier Old Men</td>\n",
       "      <td>A family wedding reignites the ancient feud be...</td>\n",
       "      <td>3</td>\n",
       "      <td>113228</td>\n",
       "      <td>113228.jpg</td>\n",
       "    </tr>\n",
       "    <tr>\n",
       "      <th>3</th>\n",
       "      <td>31357</td>\n",
       "      <td>tt0114885</td>\n",
       "      <td>Waiting to Exhale</td>\n",
       "      <td>Cheated on, mistreated and stepped on, the wom...</td>\n",
       "      <td>4</td>\n",
       "      <td>114885</td>\n",
       "      <td>114885.jpg</td>\n",
       "    </tr>\n",
       "    <tr>\n",
       "      <th>4</th>\n",
       "      <td>11862</td>\n",
       "      <td>tt0113041</td>\n",
       "      <td>Father of the Bride Part II</td>\n",
       "      <td>Just when George Banks has recovered from his ...</td>\n",
       "      <td>5</td>\n",
       "      <td>113041</td>\n",
       "      <td>113041.jpg</td>\n",
       "    </tr>\n",
       "    <tr>\n",
       "      <th>...</th>\n",
       "      <td>...</td>\n",
       "      <td>...</td>\n",
       "      <td>...</td>\n",
       "      <td>...</td>\n",
       "      <td>...</td>\n",
       "      <td>...</td>\n",
       "      <td>...</td>\n",
       "    </tr>\n",
       "    <tr>\n",
       "      <th>9020</th>\n",
       "      <td>148558</td>\n",
       "      <td>tt0022670</td>\n",
       "      <td>Betty Boop's Museum</td>\n",
       "      <td>Koko is recruiting customers for a 50 cent sig...</td>\n",
       "      <td>164631</td>\n",
       "      <td>22670</td>\n",
       "      <td>22670.jpg</td>\n",
       "    </tr>\n",
       "    <tr>\n",
       "      <th>9021</th>\n",
       "      <td>50855</td>\n",
       "      <td>tt0019640</td>\n",
       "      <td>Angora Love</td>\n",
       "      <td>Stanley and Oliver are adopted by a runaway go...</td>\n",
       "      <td>164989</td>\n",
       "      <td>19640</td>\n",
       "      <td>19640.jpg</td>\n",
       "    </tr>\n",
       "    <tr>\n",
       "      <th>9022</th>\n",
       "      <td>142918</td>\n",
       "      <td>tt0024676</td>\n",
       "      <td>Woman of Tokyo</td>\n",
       "      <td>Ryoichi and Chikako, brother and sister, live ...</td>\n",
       "      <td>165067</td>\n",
       "      <td>24676</td>\n",
       "      <td>24676.jpg</td>\n",
       "    </tr>\n",
       "    <tr>\n",
       "      <th>9023</th>\n",
       "      <td>97716</td>\n",
       "      <td>tt0014440</td>\n",
       "      <td>Scaramouche</td>\n",
       "      <td>A law student becomes an outlaw French revolut...</td>\n",
       "      <td>165083</td>\n",
       "      <td>14440</td>\n",
       "      <td>14440.jpg</td>\n",
       "    </tr>\n",
       "    <tr>\n",
       "      <th>9024</th>\n",
       "      <td>331214</td>\n",
       "      <td>tt0185906</td>\n",
       "      <td>Band of Brothers</td>\n",
       "      <td>Drawn from interviews with survivors of Easy C...</td>\n",
       "      <td>170705</td>\n",
       "      <td>185906</td>\n",
       "      <td>185906.jpg</td>\n",
       "    </tr>\n",
       "  </tbody>\n",
       "</table>\n",
       "<p>9025 rows × 7 columns</p>\n",
       "</div>"
      ],
      "text/plain": [
       "      tmdbId    imdb_id                        title  \\\n",
       "0        862  tt0114709                    Toy Story   \n",
       "1       8844  tt0113497                      Jumanji   \n",
       "2      15602  tt0113228             Grumpier Old Men   \n",
       "3      31357  tt0114885            Waiting to Exhale   \n",
       "4      11862  tt0113041  Father of the Bride Part II   \n",
       "...      ...        ...                          ...   \n",
       "9020  148558  tt0022670          Betty Boop's Museum   \n",
       "9021   50855  tt0019640                  Angora Love   \n",
       "9022  142918  tt0024676               Woman of Tokyo   \n",
       "9023   97716  tt0014440                  Scaramouche   \n",
       "9024  331214  tt0185906             Band of Brothers   \n",
       "\n",
       "                                               overview  movieId  imdbId  \\\n",
       "0     Led by Woody, Andy's toys live happily in his ...        1  114709   \n",
       "1     When siblings Judy and Peter discover an encha...        2  113497   \n",
       "2     A family wedding reignites the ancient feud be...        3  113228   \n",
       "3     Cheated on, mistreated and stepped on, the wom...        4  114885   \n",
       "4     Just when George Banks has recovered from his ...        5  113041   \n",
       "...                                                 ...      ...     ...   \n",
       "9020  Koko is recruiting customers for a 50 cent sig...   164631   22670   \n",
       "9021  Stanley and Oliver are adopted by a runaway go...   164989   19640   \n",
       "9022  Ryoichi and Chikako, brother and sister, live ...   165067   24676   \n",
       "9023  A law student becomes an outlaw French revolut...   165083   14440   \n",
       "9024  Drawn from interviews with survivors of Easy C...   170705  185906   \n",
       "\n",
       "            path  \n",
       "0     114709.jpg  \n",
       "1     113497.jpg  \n",
       "2     113228.jpg  \n",
       "3     114885.jpg  \n",
       "4     113041.jpg  \n",
       "...          ...  \n",
       "9020   22670.jpg  \n",
       "9021   19640.jpg  \n",
       "9022   24676.jpg  \n",
       "9023   14440.jpg  \n",
       "9024  185906.jpg  \n",
       "\n",
       "[9025 rows x 7 columns]"
      ]
     },
     "execution_count": 267,
     "metadata": {},
     "output_type": "execute_result"
    }
   ],
   "source": [
    "final_dataset"
   ]
  },
  {
   "cell_type": "code",
   "execution_count": 268,
   "metadata": {},
   "outputs": [],
   "source": [
    "final_dataset.to_pickle(\"data.pkl\")"
   ]
  },
  {
   "cell_type": "code",
   "execution_count": 174,
   "metadata": {},
   "outputs": [],
   "source": [
    "import pandas as pd \n",
    "test = pd.read_pickle(\"../data_after_process.pkl\")"
   ]
  },
  {
   "cell_type": "code",
   "execution_count": 175,
   "metadata": {},
   "outputs": [],
   "source": [
    "import matplotlib.pyplot as plt"
   ]
  },
  {
   "cell_type": "code",
   "execution_count": 176,
   "metadata": {},
   "outputs": [
    {
     "data": {
      "text/plain": [
       "(array([ 906., 2225., 1893., 2144.,  851.,  404.,  328.,  124.,  110.,\n",
       "          40.]),\n",
       " array([  2. ,  19.8,  37.6,  55.4,  73.2,  91. , 108.8, 126.6, 144.4,\n",
       "        162.2, 180. ]),\n",
       " <BarContainer object of 10 artists>)"
      ]
     },
     "execution_count": 176,
     "metadata": {},
     "output_type": "execute_result"
    },
    {
     "data": {
      "image/png": "[encoded data removed]",
      "text/plain": [
       "<Figure size 432x288 with 1 Axes>"
      ]
     },
     "metadata": {
      "needs_background": "light"
     },
     "output_type": "display_data"
    }
   ],
   "source": [
    "plt.hist([len(str(i).split(\" \")) for i in test[\"overview\"]])"
   ]
  },
  {
   "cell_type": "markdown",
   "metadata": {},
   "source": []
  },
  {
   "cell_type": "code",
   "execution_count": 177,
   "metadata": {},
   "outputs": [],
   "source": [
    "lengths_descr = [len(str(t)) for t in test[\"overview\"]]\n",
    "for i, l in enumerate(lengths_descr):\n",
    "    if l < 5:\n",
    "        print(i, l)"
   ]
  },
  {
   "cell_type": "code",
   "execution_count": 155,
   "metadata": {},
   "outputs": [],
   "source": [
    "# test.to_pickle(\"../data_after_process.pkl\")"
   ]
  }
 ],
 "metadata": {
  "interpreter": {
   "hash": "3211dc43ab34930f11a9a22ea04b20f87c15e7fbdb07e5e2aecfd06158e2e37a"
  },
  "kernelspec": {
   "display_name": "Python 3.6.13 ('PTVQA')",
   "language": "python",
   "name": "python3"
  },
  "language_info": {
   "codemirror_mode": {
    "name": "ipython",
    "version": 3
   },
   "file_extension": ".py",
   "mimetype": "text/x-python",
   "name": "python",
   "nbconvert_exporter": "python",
   "pygments_lexer": "ipython3",
   "version": "3.6.13"
  },
  "orig_nbformat": 4
 },
 "nbformat": 4,
 "nbformat_minor": 2
}
